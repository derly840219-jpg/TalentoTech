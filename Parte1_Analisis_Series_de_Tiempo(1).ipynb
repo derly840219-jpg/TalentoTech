{
  "cells": [
    {
      "cell_type": "markdown",
      "metadata": {
        "id": "6eqd3aj--sPX"
      },
      "source": [
        "# Parte 1 — Análisis de Series de Tiempo\n",
        "**C7 IA Innovador**  \n",
        "**Ing:** Engler González · **Objetivo:** dejar la serie lista para modelar\n"
      ],
      "id": "6eqd3aj--sPX"
    },
    {
      "cell_type": "markdown",
      "metadata": {
        "id": "-6HRpiE--sPd"
      },
      "source": [
        "## 0) Dependencias y objetivo de la celda\n",
        "En esta celda importamos librerías y definimos el objetivo del bloque: cargar una serie real (CO₂ Mauna Loa) o, si no está disponible, generar una serie sintética mensual.\n"
      ],
      "id": "-6HRpiE--sPd"
    },
    {
      "cell_type": "code",
      "metadata": {
        "id": "m62Lulvg-sPf"
      },
      "execution_count": null,
      "outputs": [],
      "source": [
        "\n",
        "# import numpy as np, pandas as pd, matplotlib.pyplot as plt  -> librerías base para manipular y graficar datos\n",
        "import numpy as np\n",
        "import pandas as pd\n",
        "import matplotlib.pyplot as plt\n",
        "\n",
        "# Intentaremos cargar un dataset real de statsmodels; si falla, generamos datos sintéticos\n",
        "dataset_name = None\n",
        "try:\n",
        "    import statsmodels.api as sm  # librería de modelos estadísticos\n",
        "    co2 = sm.datasets.co2.load_pandas().data.copy()   # dataset CO₂ (ppm)\n",
        "    co2.index = pd.to_datetime(co2.index)             # aseguramos índice datetime\n",
        "    y = co2['co2'].resample('MS').mean().ffill()      # resampleo a mensual (MS) y forward-fill\n",
        "    df = pd.DataFrame({'y': y})                       # dataframe final con una sola columna y\n",
        "    dataset_name = 'NOAA Mauna Loa CO₂ (ppm) — statsmodels'\n",
        "except Exception as e:\n",
        "    # Fallback sintético: tendencia + estacionalidad + ruido (120 meses ~10 años)\n",
        "    idx = pd.date_range('2016-01-01', periods=120, freq='MS')\n",
        "    rng = np.random.default_rng(7)                    # generador de aleatoriedad reproducible\n",
        "    trend = np.linspace(100, 220, len(idx))           # tendencia creciente\n",
        "    season = 12 * np.sin(2*np.pi*(idx.month/12.0))    # estacionalidad anual (m=12)\n",
        "    noise = rng.normal(0, 2.2, len(idx))              # ruido gaussiano\n",
        "    y = trend + season + noise\n",
        "    df = pd.DataFrame({'y': y}, index=idx)\n",
        "    dataset_name = 'Serie sintética (ventas mensuales aprox.)'\n",
        "\n",
        "df.index.name = 'ds'                                   # nombramos el índice como ds (datestamp)\n",
        "print(f'Dataset: {dataset_name} | Observaciones: {df.shape[0]} | Frecuencia inferida: {pd.infer_freq(df.index)}')\n",
        "df.head()\n"
      ],
      "id": "m62Lulvg-sPf"
    },
    {
      "cell_type": "markdown",
      "metadata": {
        "id": "Wxyfd4vu-sPi"
      },
      "source": [
        "## 1) Visualización inicial\n",
        "Vamos a graficar la serie original para buscar señales de tendencia/estacionalidad.\n"
      ],
      "id": "Wxyfd4vu-sPi"
    },
    {
      "cell_type": "code",
      "metadata": {
        "id": "kT6iFHHx-sPj"
      },
      "execution_count": null,
      "outputs": [],
      "source": [
        "ax = df['y'].plot(figsize=(10,4), title=f'Serie original: {dataset_name}')\n",
        "ax.set_xlabel('Fecha'); ax.set_ylabel('y')\n",
        "plt.show()\n"
      ],
      "id": "kT6iFHHx-sPj"
    },
    {
      "cell_type": "markdown",
      "metadata": {
        "id": "BtXSo4i--sPk"
      },
      "source": [
        "## 2) Agregaciones y chequeos rápidos\n",
        "- Contar valores faltantes y rellenar si los hay.\n",
        "- Ver **promedio anual** (para ver tendencia) y **promedio por mes** (estacionalidad).\n"
      ],
      "id": "BtXSo4i--sPk"
    },
    {
      "cell_type": "code",
      "metadata": {
        "id": "0SzbOYWA-sPl"
      },
      "execution_count": null,
      "outputs": [],
      "source": [
        "print(\"Valores faltantes:\", df['y'].isna().sum())\n",
        "df['y'] = df['y'].interpolate('time')  # imputación suave por tiempo\n",
        "\n",
        "# Agregaciones\n",
        "y_year = df['y'].resample('Y').mean()\n",
        "y_month = df['y'].groupby(df.index.month).mean()\n",
        "\n",
        "fig, axes = plt.subplots(1,2, figsize=(12,4))\n",
        "y_year.plot(ax=axes[0], title='Promedio anual')\n",
        "axes[0].set_xlabel('Año'); axes[0].set_ylabel('y')\n",
        "y_month.plot(ax=axes[1], title='Promedio por mes (estacionalidad)')\n",
        "axes[1].set_xlabel('Mes'); axes[1].set_ylabel('y')\n",
        "plt.tight_layout(); plt.show()\n"
      ],
      "id": "0SzbOYWA-sPl"
    },
    {
      "cell_type": "markdown",
      "metadata": {
        "id": "2e7XwCcW-sPm"
      },
      "source": [
        "## 3) Descomposición de la serie\n",
        "Probamos **modelo aditivo** y **multiplicativo** con periodo estacional m=12 para separar tendencia, estacionalidad y residuo.\n"
      ],
      "id": "2e7XwCcW-sPm"
    },
    {
      "cell_type": "code",
      "metadata": {
        "id": "_zLs3X0e-sPn"
      },
      "execution_count": null,
      "outputs": [],
      "source": [
        "from statsmodels.tsa.seasonal import seasonal_decompose\n",
        "\n",
        "m = 12\n",
        "res_add = seasonal_decompose(df['y'], model='additive', period=m, extrapolate_trend='freq')\n",
        "fig = res_add.plot(); fig.set_size_inches(10,7); plt.suptitle('Descomposición aditiva', y=1.02); plt.show()\n",
        "\n",
        "res_mul = seasonal_decompose(df['y'], model='multiplicative', period=m, extrapolate_trend='freq')\n",
        "fig = res_mul.plot(); fig.set_size_inches(10,7); plt.suptitle('Descomposición multiplicativa', y=1.02); plt.show()\n"
      ],
      "id": "_zLs3X0e-sPn"
    },
    {
      "cell_type": "markdown",
      "metadata": {
        "id": "5AgxS7iq-sPo"
      },
      "source": [
        "## 4) Estacionariedad (ADF) y transformaciones\n",
        "- Ejecutamos **ADF**: p<0.05 ⇒ estacionaria.  \n",
        "- Si `y>0`, probamos `log(y)` y **diferencia** d=1.  \n",
        "- Luego veremos ACF y PACF sobre la serie diferenciada.\n"
      ],
      "id": "5AgxS7iq-sPo"
    },
    {
      "cell_type": "code",
      "metadata": {
        "id": "kfeKfznk-sPo"
      },
      "execution_count": null,
      "outputs": [],
      "source": [
        "from statsmodels.tsa.stattools import adfuller\n",
        "\n",
        "def adf_report(s, name):\n",
        "    s = s.dropna()\n",
        "    stat, p, *_ = adfuller(s)\n",
        "    print(f'ADF {name}: stat={stat:.3f} | p={p:.4f} | H0: NO estacionaria')\n",
        "\n",
        "adf_report(df['y'], 'y (original)')\n",
        "\n",
        "df_t = df.copy()\n",
        "if (df['y']>0).all():\n",
        "    df_t['y_log'] = np.log(df['y'])\n",
        "    adf_report(df_t['y_log'], 'log(y)')\n",
        "else:\n",
        "    df_t['y_log'] = np.nan\n",
        "\n",
        "base = df_t['y_log'] if df_t['y_log'].notna().all() else df_t['y']\n",
        "df_t['y_diff1'] = base.diff(1)\n",
        "adf_report(df_t['y_diff1'], 'diff1')\n",
        "\n",
        "ax = df_t[['y','y_log','y_diff1']].plot(subplots=True, figsize=(10,7), title=['y','log(y)','diff1'])\n",
        "plt.tight_layout(); plt.show()\n"
      ],
      "id": "kfeKfznk-sPo"
    },
    {
      "cell_type": "markdown",
      "metadata": {
        "id": "MDBhVZB2-sPp"
      },
      "source": [
        "## 5) ACF y PACF (guías visuales para ARIMA)\n",
        "Usamos la serie diferenciada para inspeccionar rezagos significativos.\n"
      ],
      "id": "MDBhVZB2-sPp"
    },
    {
      "cell_type": "code",
      "metadata": {
        "id": "mIgRoec3-sPq"
      },
      "execution_count": null,
      "outputs": [],
      "source": [
        "from statsmodels.graphics.tsaplots import plot_acf, plot_pacf\n",
        "series = (df_t['y_log'] if df_t['y_log'].notna().all() else df_t['y']).diff().dropna()\n",
        "\n",
        "import matplotlib.pyplot as plt\n",
        "fig = plt.figure(figsize=(12,4))\n",
        "ax1 = plt.subplot(1,2,1); plot_acf(series, lags=24, ax=ax1)\n",
        "ax2 = plt.subplot(1,2,2); plot_pacf(series, lags=24, ax=ax2, method='ywm')\n",
        "plt.suptitle('ACF/PACF de la serie diferenciada'); plt.tight_layout(); plt.show()\n"
      ],
      "id": "mIgRoec3-sPq"
    },
    {
      "cell_type": "markdown",
      "metadata": {
        "id": "z4Kmra59-sPq"
      },
      "source": [
        "## 6) Guardar salida para la Parte 2\n",
        "Guardamos CSV con `y` y, si corresponde, `log(y)`.\n"
      ],
      "id": "z4Kmra59-sPq"
    },
    {
      "cell_type": "code",
      "metadata": {
        "id": "P5TFPa4u-sPr"
      },
      "execution_count": null,
      "outputs": [],
      "source": [
        "out_csv = 'serie_preprocesada_parte2.csv'\n",
        "to_save = df.copy()\n",
        "if 'y_log' in df_t.columns:\n",
        "    to_save['y_log'] = df_t['y_log']\n",
        "to_save.to_csv(out_csv, index=True)\n",
        "print('Guardado:', out_csv)\n",
        "to_save.tail()\n"
      ],
      "id": "P5TFPa4u-sPr"
    },
    {
      "cell_type": "markdown",
      "metadata": {
        "id": "VbO9Jbif-sPr"
      },
      "source": [
        "---\n",
        "## Reto (Parte 1)\n",
        "1. Resamplea la serie a **semanal (W)** y grafica.  \n",
        "2. Calcula estacionalidad por **día de la semana** (1..7) y compárala con la estacionalidad **mensual**.  \n",
        "3. Escribe **3 conclusiones** sobre las diferencias.\n",
        "\n",
        "### Solución"
      ],
      "id": "VbO9Jbif-sPr"
    },
    {
      "cell_type": "code",
      "metadata": {
        "id": "NiioKP9m-sPr"
      },
      "execution_count": null,
      "outputs": [],
      "source": [
        "# 1) Resampleo semanal\n",
        "\n",
        "\n",
        "# 2) Estacionalidad por día de la semana (0=lun … 6=dom)\n",
        "\n"
      ],
      "id": "NiioKP9m-sPr"
    }
  ],
  "metadata": {
    "colab": {
      "provenance": []
    },
    "kernelspec": {
      "display_name": "Python 3",
      "language": "python",
      "name": "python3"
    },
    "language_info": {
      "name": "python",
      "pygments_lexer": "ipython3"
    }
  },
  "nbformat": 4,
  "nbformat_minor": 5
}